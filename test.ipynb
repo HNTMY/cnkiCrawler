{
 "cells": [
  {
   "cell_type": "code",
   "execution_count": 3,
   "metadata": {},
   "outputs": [],
   "source": [
    "# selenium\n",
    "from selenium import webdriver\n",
    "from selenium.common.exceptions import NoSuchElementException\n",
    "from selenium.webdriver.common.by import By\n",
    "import pymongo"
   ]
  },
  {
   "cell_type": "code",
   "execution_count": 3,
   "metadata": {},
   "outputs": [
    {
     "name": "stdout",
     "output_type": "stream",
     "text": [
      "2\n",
      "3\n",
      "4\n",
      "5\n",
      "6\n",
      "7\n",
      "8\n",
      "9\n"
     ]
    }
   ],
   "source": [
    "start = 2\n",
    "for i in range(start, 10):\n",
    "    start = i\n",
    "    print(i)"
   ]
  },
  {
   "cell_type": "code",
   "execution_count": 4,
   "metadata": {},
   "outputs": [],
   "source": [
    "def getChromeDriver(options):\n",
    "    opts = webdriver.ChromeOptions()\n",
    "    for opt in options:\n",
    "        opts.add_argument(opt)\n",
    "    driver = webdriver.Chrome(options = opts)\n",
    "    return driver\n",
    "\n",
    "def isElementPresent(driver, by, value):\n",
    "        \"\"\"\n",
    "        用来判断元素标签是否存在，\n",
    "        \"\"\"\n",
    "        try:\n",
    "            element = driver.find_element(by=by, value=value)\n",
    "        except NoSuchElementException as e:\n",
    "            # 发生了NoSuchElementException异常，说明页面中未找到该元素，返回False\n",
    "            return False\n",
    "        else:\n",
    "            # 没有发生异常，表示在页面中找到了该元素，返回True\n",
    "            return True"
   ]
  },
  {
   "cell_type": "code",
   "execution_count": 7,
   "metadata": {},
   "outputs": [],
   "source": [
    "xsqkurl = r'https://kns.cnki.net/kcms/detail/detail.aspx?dbcode=CAPJ&dbname=CAPJLAST&filename=SKYK20220215000&uniplatform=NZKPT&v=ikHDFfO2iKKCkFV7XFP-sKn8U-o2LnmKQ7Docz92wH_z00FHeWgzP1HlcbehGqzW'\n",
    "hyurl = r'https://kns.cnki.net/kcms/detail/detail.aspx?dbcode=CPFD&dbname=CPFDLAST2022&filename=GCKZ202107001229&uniplatform=NZKPT&v=EWFnAIc5r6Tl8jZzgiXAa5wG8c3-RKLr3d5PGoZ4xw3DAv3lnDVhq1A2-kxTeucS1nlHHPnD3kw%3d'"
   ]
  },
  {
   "cell_type": "code",
   "execution_count": 8,
   "metadata": {},
   "outputs": [],
   "source": [
    "url = xsqkurl"
   ]
  },
  {
   "cell_type": "code",
   "execution_count": null,
   "metadata": {},
   "outputs": [],
   "source": [
    "url = hyurl"
   ]
  },
  {
   "cell_type": "code",
   "execution_count": 11,
   "metadata": {},
   "outputs": [],
   "source": [
    "options = [\n",
    "    '--disable-gpu',\n",
    "    '--blink-settings=imagesEnabled=false',\n",
    "    # '--headless',\n",
    "    ]\n",
    "driver = getChromeDriver(options)\n",
    "\n",
    "driver.get(url)\n",
    "homePage = driver.current_window_handle\n",
    "driver.switch_to.window(homePage)\n",
    "for i in range(4):\n",
    "    driver.execute_script('window.open()')\n",
    "driver.switch_to.window(homePage)"
   ]
  },
  {
   "cell_type": "code",
   "execution_count": 13,
   "metadata": {},
   "outputs": [],
   "source": [
    "windowsLen = len(driver.window_handles)\n",
    "while len(driver.window_handles) != 1:\n",
    "    driver.switch_to.window(driver.window_handles[1])\n",
    "    driver.close()\n",
    "    driver.switch_to.window(homePage)"
   ]
  },
  {
   "cell_type": "code",
   "execution_count": 10,
   "metadata": {},
   "outputs": [],
   "source": [
    "driver.quit()"
   ]
  },
  {
   "cell_type": "code",
   "execution_count": null,
   "metadata": {},
   "outputs": [],
   "source": [
    "# 学术期刊\n",
    "xsqkInfoCSS = {\n",
    "    'qk_name': r'div.top-tip > span > a',        # 所属期刊名称及时间(可能没有时间)\n",
    "    'qk_netTime': r'div.head-time > span',       # 文献网络首发时间\n",
    "    'qk_title': r'div.wx-tit > h1',              # 文献标题\n",
    "    'qk_auther': r'h3#authorpart.author > span', # 作者\n",
    "    'qk_institution': r'a.author',               # 作者所属机构\n",
    "    'qk_abstract': r'span#ChDivSummary',         # 摘要\n",
    "    'qk_keys': r'p.keywords > a'                 # 关键字\n",
    "    }\n",
    "\n",
    "# 会议\n",
    "hyInfoCSS = {\n",
    "    'hy_title': r'div.wx-tit > h1',              # 文献标题\n",
    "    'hy_auther': r'h3#authorpart.author > span', # 作者\n",
    "    'hy_institution': r'a.author',               # 作者所属机构\n",
    "    'hy_abstract': r'span#ChDivSummary',         # 摘要\n",
    "    'hy_keys': r'p.keywords > a'                 # 关键字\n",
    "}\n",
    "hy_info = r'div.row > span'                      # 会议信息（名称、时间、地点等）\n"
   ]
  },
  {
   "cell_type": "code",
   "execution_count": null,
   "metadata": {},
   "outputs": [],
   "source": [
    "# 学术期刊\n",
    "moreEle = driver.find_element(by = By.CSS_SELECTOR, value = 'a#ChDivSummaryMore')\n",
    "if(moreEle.get_attribute('style') != 'display: none;'):\n",
    "    moreEle.click()\n",
    "for css in xsqkInfoCSS:\n",
    "    if isElementPresent(driver, By.CSS_SELECTOR, xsqkInfoCSS[css]):\n",
    "        eles = driver.find_elements(by = By.CSS_SELECTOR, value = xsqkInfoCSS[css])\n",
    "        print('{}:'.format(css))\n",
    "        for ele in eles:\n",
    "            print(ele.text, end = ' ')\n",
    "        print(end = '\\n')"
   ]
  },
  {
   "cell_type": "code",
   "execution_count": null,
   "metadata": {},
   "outputs": [],
   "source": [
    "# 会议\n",
    "save = {}\n",
    "moreEle = driver.find_element(by = By.CSS_SELECTOR, value = 'a#ChDivSummaryMore')\n",
    "if(moreEle.get_attribute('style') != 'display: none;'):\n",
    "    moreEle.click()\n",
    "for css in hyInfoCSS:\n",
    "    if isElementPresent(driver, By.CSS_SELECTOR, hyInfoCSS[css]):\n",
    "        eles = driver.find_elements(by = By.CSS_SELECTOR, value = hyInfoCSS[css])\n",
    "        infoStr = ''\n",
    "        for ele in eles:\n",
    "            infoStr += ele.text\n",
    "            infoStr += '  '\n",
    "        save[css] = infoStr\n",
    "if isElementPresent(driver, By.CSS_SELECTOR, hy_info):\n",
    "    eles = driver.find_elements(by = By.CSS_SELECTOR, value = hy_info)\n",
    "    for ele in eles:\n",
    "        if(ele.text == '会议名称：'):\n",
    "            infoStr = ele.find_element(by = By.XPATH, value = '../p').text\n",
    "            save['hy_hyname'] = infoStr\n",
    "            num = 0\n",
    "            total = len(infoStr)\n",
    "            for char in infoStr:\n",
    "                if char >= '\\u4e00' and char <= '\\u9fa5':\n",
    "                    print(char)\n",
    "                    num += 1\n",
    "            print(infoStr)\n",
    "            print(num/total)\n",
    "        elif(ele.text == '会议时间：'):\n",
    "            infoStr = ele.find_element(by = By.XPATH, value = '../p').text\n",
    "            save['hy_hytime'] = infoStr\n",
    "        elif(ele.text == '会议地点：'):\n",
    "            infoStr = ele.find_element(by = By.XPATH, value = '../p').text\n",
    "            save['hy_hyplace'] = infoStr\n",
    "\n",
    "client = pymongo.MongoClient('localhost', 27017)    # 连接服务器，需要先开启服务\n",
    "db = client['mytest']  # 选择数据库\n",
    "db.myi.insert_one(save)\n",
    "data_all = db.myi.find()\n",
    "for d in data_all:\n",
    "    print(d)"
   ]
  }
 ],
 "metadata": {
  "interpreter": {
   "hash": "b3ba2566441a7c06988d0923437866b63cedc61552a5af99d1f4fb67d367b25f"
  },
  "kernelspec": {
   "display_name": "Python 3.9.7 ('base')",
   "language": "python",
   "name": "python3"
  },
  "language_info": {
   "codemirror_mode": {
    "name": "ipython",
    "version": 3
   },
   "file_extension": ".py",
   "mimetype": "text/x-python",
   "name": "python",
   "nbconvert_exporter": "python",
   "pygments_lexer": "ipython3",
   "version": "3.9.7"
  },
  "orig_nbformat": 4
 },
 "nbformat": 4,
 "nbformat_minor": 2
}
